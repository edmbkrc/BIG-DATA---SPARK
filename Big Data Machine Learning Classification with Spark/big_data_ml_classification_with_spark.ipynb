{
  "cells": [
    {
      "cell_type": "markdown",
      "id": "7cc4e21d-f72e-496e-92b6-3482637197dd",
      "metadata": {
        "id": "7cc4e21d-f72e-496e-92b6-3482637197dd"
      },
      "source": [
        "# Big Data Machine Learning Classification with Spark"
      ]
    },
    {
      "cell_type": "markdown",
      "source": [
        "------------Big Data Churn prediction with Spark--------------\n",
        "\n",
        "I will use pyspark machine learning package to predict customers' behavior."
      ],
      "metadata": {
        "id": "GTSDyJOfktaI"
      },
      "id": "GTSDyJOfktaI"
    },
    {
      "cell_type": "code",
      "execution_count": 3,
      "id": "1d3b4da6-3c31-4655-bdf4-f8f914edc7ef",
      "metadata": {
        "id": "1d3b4da6-3c31-4655-bdf4-f8f914edc7ef"
      },
      "outputs": [],
      "source": [
        "#pip install pyspark"
      ]
    },
    {
      "cell_type": "code",
      "execution_count": 35,
      "id": "bdeb071e-1a18-45e2-a7b1-279fe1c5f957",
      "metadata": {
        "id": "bdeb071e-1a18-45e2-a7b1-279fe1c5f957"
      },
      "outputs": [],
      "source": [
        "from pyspark.sql import SparkSession\n",
        "from pyspark.ml.feature import VectorAssembler\n",
        "from pyspark.ml.classification import GBTClassifier\n",
        "from pyspark.ml.evaluation import BinaryClassificationEvaluator"
      ]
    },
    {
      "cell_type": "code",
      "source": [
        "spark = SparkSession.builder.appName(\"ChurnGBTClassifier\").getOrCreate()"
      ],
      "metadata": {
        "id": "yYU78FAXlHDU"
      },
      "id": "yYU78FAXlHDU",
      "execution_count": 36,
      "outputs": []
    },
    {
      "cell_type": "code",
      "source": [
        "data = spark.read.csv(\"churn.csv\",inferSchema=True,header=True)"
      ],
      "metadata": {
        "id": "tcAPClLfldQi"
      },
      "id": "tcAPClLfldQi",
      "execution_count": 37,
      "outputs": []
    },
    {
      "cell_type": "code",
      "source": [
        "data.printSchema()"
      ],
      "metadata": {
        "colab": {
          "base_uri": "https://localhost:8080/"
        },
        "id": "JEE8iZAPl1aA",
        "outputId": "62734b08-8744-4fd0-efbe-9841477b550c"
      },
      "id": "JEE8iZAPl1aA",
      "execution_count": 7,
      "outputs": [
        {
          "output_type": "stream",
          "name": "stdout",
          "text": [
            "root\n",
            " |-- _c0: integer (nullable = true)\n",
            " |-- Names: string (nullable = true)\n",
            " |-- Age: double (nullable = true)\n",
            " |-- Total_Purchase: double (nullable = true)\n",
            " |-- Account_Manager: integer (nullable = true)\n",
            " |-- Years: double (nullable = true)\n",
            " |-- Num_Sites: double (nullable = true)\n",
            " |-- Churn: integer (nullable = true)\n",
            "\n"
          ]
        }
      ]
    },
    {
      "cell_type": "code",
      "source": [
        "data.show()"
      ],
      "metadata": {
        "colab": {
          "base_uri": "https://localhost:8080/"
        },
        "id": "WrCDabvZl6L2",
        "outputId": "476d8775-bd69-48a0-dedd-3848ca8b8e34"
      },
      "id": "WrCDabvZl6L2",
      "execution_count": 8,
      "outputs": [
        {
          "output_type": "stream",
          "name": "stdout",
          "text": [
            "+---+-------------------+----+--------------+---------------+-----+---------+-----+\n",
            "|_c0|              Names| Age|Total_Purchase|Account_Manager|Years|Num_Sites|Churn|\n",
            "+---+-------------------+----+--------------+---------------+-----+---------+-----+\n",
            "|  0|   Cameron Williams|42.0|       11066.8|              0| 7.22|      8.0|    1|\n",
            "|  1|      Kevin Mueller|41.0|      11916.22|              0|  6.5|     11.0|    1|\n",
            "|  2|        Eric Lozano|38.0|      12884.75|              0| 6.67|     12.0|    1|\n",
            "|  3|      Phillip White|42.0|       8010.76|              0| 6.71|     10.0|    1|\n",
            "|  4|     Cynthia Norton|37.0|       9191.58|              0| 5.56|      9.0|    1|\n",
            "|  5|   Jessica Williams|48.0|      10356.02|              0| 5.12|      8.0|    1|\n",
            "|  6|        Eric Butler|44.0|      11331.58|              1| 5.23|     11.0|    1|\n",
            "|  7|      Zachary Walsh|32.0|       9885.12|              1| 6.92|      9.0|    1|\n",
            "|  8|        Ashlee Carr|43.0|       14062.6|              1| 5.46|     11.0|    1|\n",
            "|  9|     Jennifer Lynch|40.0|       8066.94|              1| 7.11|     11.0|    1|\n",
            "| 10|       Paula Harris|30.0|      11575.37|              1| 5.22|      8.0|    1|\n",
            "| 11|     Bruce Phillips|45.0|       8771.02|              1| 6.64|     11.0|    1|\n",
            "| 12|       Craig Garner|45.0|       8988.67|              1| 4.84|     11.0|    1|\n",
            "| 13|       Nicole Olson|40.0|       8283.32|              1|  5.1|     13.0|    1|\n",
            "| 14|     Harold Griffin|41.0|       6569.87|              1|  4.3|     11.0|    1|\n",
            "| 15|       James Wright|38.0|      10494.82|              1| 6.81|     12.0|    1|\n",
            "| 16|      Doris Wilkins|45.0|       8213.41|              1| 7.35|     11.0|    1|\n",
            "| 17|Katherine Carpenter|43.0|      11226.88|              0| 8.08|     12.0|    1|\n",
            "| 18|     Lindsay Martin|53.0|       5515.09|              0| 6.85|      8.0|    1|\n",
            "| 19|        Kathy Curry|46.0|        8046.4|              1| 5.69|      8.0|    1|\n",
            "+---+-------------------+----+--------------+---------------+-----+---------+-----+\n",
            "only showing top 20 rows\n",
            "\n"
          ]
        }
      ]
    },
    {
      "cell_type": "code",
      "source": [
        "data.columns"
      ],
      "metadata": {
        "colab": {
          "base_uri": "https://localhost:8080/"
        },
        "id": "eUPjzPgWmbjS",
        "outputId": "adb62f3f-9df9-4785-c7e1-4ddb4e71bb14"
      },
      "id": "eUPjzPgWmbjS",
      "execution_count": 11,
      "outputs": [
        {
          "output_type": "execute_result",
          "data": {
            "text/plain": [
              "['_c0',\n",
              " 'Names',\n",
              " 'Age',\n",
              " 'Total_Purchase',\n",
              " 'Account_Manager',\n",
              " 'Years',\n",
              " 'Num_Sites',\n",
              " 'Churn']"
            ]
          },
          "metadata": {},
          "execution_count": 11
        }
      ]
    },
    {
      "cell_type": "code",
      "source": [
        "data.count()"
      ],
      "metadata": {
        "colab": {
          "base_uri": "https://localhost:8080/"
        },
        "id": "sCUDOW2PmsYD",
        "outputId": "e55cde3a-4f47-4b0e-8545-4d988471e286"
      },
      "id": "sCUDOW2PmsYD",
      "execution_count": 13,
      "outputs": [
        {
          "output_type": "execute_result",
          "data": {
            "text/plain": [
              "900"
            ]
          },
          "metadata": {},
          "execution_count": 13
        }
      ]
    },
    {
      "cell_type": "code",
      "source": [
        "data.groupBy(\"Churn\").count().show()"
      ],
      "metadata": {
        "colab": {
          "base_uri": "https://localhost:8080/"
        },
        "id": "1tAZYzywm4dI",
        "outputId": "4bc87361-e674-4cc2-e2d4-6960fd8fe683"
      },
      "id": "1tAZYzywm4dI",
      "execution_count": 14,
      "outputs": [
        {
          "output_type": "stream",
          "name": "stdout",
          "text": [
            "+-----+-----+\n",
            "|Churn|count|\n",
            "+-----+-----+\n",
            "|    1|  150|\n",
            "|    0|  750|\n",
            "+-----+-----+\n",
            "\n"
          ]
        }
      ]
    },
    {
      "cell_type": "code",
      "source": [
        "data.describe().show()"
      ],
      "metadata": {
        "colab": {
          "base_uri": "https://localhost:8080/"
        },
        "id": "JhN3eKkenBkf",
        "outputId": "76fba140-c6dd-43cf-bf05-48d6ae072225"
      },
      "id": "JhN3eKkenBkf",
      "execution_count": 15,
      "outputs": [
        {
          "output_type": "stream",
          "name": "stdout",
          "text": [
            "+-------+------------------+-------------+-----------------+-----------------+------------------+-----------------+------------------+-------------------+\n",
            "|summary|               _c0|        Names|              Age|   Total_Purchase|   Account_Manager|            Years|         Num_Sites|              Churn|\n",
            "+-------+------------------+-------------+-----------------+-----------------+------------------+-----------------+------------------+-------------------+\n",
            "|  count|               900|          900|              900|              900|               900|              900|               900|                900|\n",
            "|   mean|             449.5|         NULL|41.81666666666667|10062.82403333334|0.4811111111111111| 5.27315555555555| 8.587777777777777|0.16666666666666666|\n",
            "| stddev|259.95191863111916|         NULL|6.127560416916251|2408.644531858096|0.4999208935073339|1.274449013194616|1.7648355920350969| 0.3728852122772358|\n",
            "|    min|                 0|   Aaron King|             22.0|            100.0|                 0|              1.0|               3.0|                  0|\n",
            "|    max|               899|Zachary Walsh|             65.0|         18026.01|                 1|             9.15|              14.0|                  1|\n",
            "+-------+------------------+-------------+-----------------+-----------------+------------------+-----------------+------------------+-------------------+\n",
            "\n"
          ]
        }
      ]
    },
    {
      "cell_type": "code",
      "source": [
        "data.groupby(\"Age\").agg({\"Churn\": \"count\"}).show()"
      ],
      "metadata": {
        "colab": {
          "base_uri": "https://localhost:8080/"
        },
        "id": "yuy9jGXmnYB2",
        "outputId": "2686fd85-870b-498a-c93a-c28ad2145b44"
      },
      "id": "yuy9jGXmnYB2",
      "execution_count": 22,
      "outputs": [
        {
          "output_type": "stream",
          "name": "stdout",
          "text": [
            "+----+------------+\n",
            "| Age|count(Churn)|\n",
            "+----+------------+\n",
            "|49.0|          30|\n",
            "|29.0|           9|\n",
            "|47.0|          29|\n",
            "|42.0|          49|\n",
            "|44.0|          53|\n",
            "|35.0|          32|\n",
            "|39.0|          48|\n",
            "|37.0|          48|\n",
            "|34.0|          25|\n",
            "|25.0|           1|\n",
            "|36.0|          39|\n",
            "|41.0|          69|\n",
            "|56.0|           5|\n",
            "|50.0|          15|\n",
            "|45.0|          56|\n",
            "|31.0|          11|\n",
            "|58.0|           2|\n",
            "|51.0|          21|\n",
            "|48.0|          36|\n",
            "|22.0|           1|\n",
            "+----+------------+\n",
            "only showing top 20 rows\n",
            "\n"
          ]
        }
      ]
    },
    {
      "cell_type": "code",
      "source": [
        "data.groupby(\"Account_Manager\").agg({\"Churn\": \"count\"}).show()"
      ],
      "metadata": {
        "colab": {
          "base_uri": "https://localhost:8080/"
        },
        "id": "7mOrJ9MsnKdG",
        "outputId": "ce9a5056-dc9e-4643-b087-499371cfd217"
      },
      "id": "7mOrJ9MsnKdG",
      "execution_count": 23,
      "outputs": [
        {
          "output_type": "stream",
          "name": "stdout",
          "text": [
            "+---------------+------------+\n",
            "|Account_Manager|count(Churn)|\n",
            "+---------------+------------+\n",
            "|              1|         433|\n",
            "|              0|         467|\n",
            "+---------------+------------+\n",
            "\n"
          ]
        }
      ]
    },
    {
      "cell_type": "code",
      "source": [
        "data.groupby(\"Total_Purchase\").agg({\"Churn\": \"count\"}).show()"
      ],
      "metadata": {
        "colab": {
          "base_uri": "https://localhost:8080/"
        },
        "id": "4ETrGAFmoYKL",
        "outputId": "d14b0c1b-0c7e-4ac7-a71d-646e6a85e3f1"
      },
      "id": "4ETrGAFmoYKL",
      "execution_count": 24,
      "outputs": [
        {
          "output_type": "stream",
          "name": "stdout",
          "text": [
            "+--------------+------------+\n",
            "|Total_Purchase|count(Churn)|\n",
            "+--------------+------------+\n",
            "|      10522.21|           1|\n",
            "|      10806.13|           1|\n",
            "|      10697.72|           1|\n",
            "|      11580.56|           1|\n",
            "|       11334.3|           1|\n",
            "|      11743.24|           1|\n",
            "|      10617.16|           1|\n",
            "|      10338.09|           1|\n",
            "|       10491.4|           1|\n",
            "|       7686.13|           1|\n",
            "|      10183.98|           1|\n",
            "|       9261.41|           1|\n",
            "|      11768.71|           1|\n",
            "|       9617.59|           1|\n",
            "|      11119.11|           1|\n",
            "|      13532.85|           1|\n",
            "|       8011.38|           1|\n",
            "|       9324.49|           1|\n",
            "|      10746.37|           1|\n",
            "|      11222.48|           1|\n",
            "+--------------+------------+\n",
            "only showing top 20 rows\n",
            "\n"
          ]
        }
      ]
    },
    {
      "cell_type": "markdown",
      "source": [
        "Modelling"
      ],
      "metadata": {
        "id": "qCX_4hUlpstw"
      },
      "id": "qCX_4hUlpstw"
    },
    {
      "cell_type": "code",
      "source": [
        "data = data.drop(\"Names\")"
      ],
      "metadata": {
        "id": "YxR0Zs24uWmm"
      },
      "id": "YxR0Zs24uWmm",
      "execution_count": 41,
      "outputs": []
    },
    {
      "cell_type": "code",
      "source": [
        "\n",
        "feature_columns = data.columns[:-1]\n",
        "assembler = VectorAssembler(inputCols=feature_columns, outputCol=\"features\")\n",
        "data = assembler.transform(data).select(\"features\", \"Churn\")"
      ],
      "metadata": {
        "id": "1R9DBJEgoeOg"
      },
      "id": "1R9DBJEgoeOg",
      "execution_count": 42,
      "outputs": []
    },
    {
      "cell_type": "code",
      "source": [
        "train_data, test_data = data.randomSplit([0.7, 0.3], seed=42)"
      ],
      "metadata": {
        "id": "oUea2mNOouKM"
      },
      "id": "oUea2mNOouKM",
      "execution_count": 43,
      "outputs": []
    },
    {
      "cell_type": "code",
      "source": [
        "gbt = GBTClassifier(labelCol=\"Churn\", featuresCol=\"features\")\n",
        "model = gbt.fit(train_data)"
      ],
      "metadata": {
        "id": "pMjBjm9vur6W"
      },
      "id": "pMjBjm9vur6W",
      "execution_count": 44,
      "outputs": []
    },
    {
      "cell_type": "code",
      "source": [
        "predictions = model.transform(test_data)"
      ],
      "metadata": {
        "id": "Rov7YFBpvBvB"
      },
      "id": "Rov7YFBpvBvB",
      "execution_count": 45,
      "outputs": []
    },
    {
      "cell_type": "code",
      "source": [
        "evaluator = BinaryClassificationEvaluator(labelCol=\"Churn\")\n",
        "accuracy = evaluator.evaluate(predictions)\n",
        "print(\"Accuracy:\", accuracy)"
      ],
      "metadata": {
        "colab": {
          "base_uri": "https://localhost:8080/"
        },
        "id": "pGFguofOvJjA",
        "outputId": "617bbdf9-fb96-4b29-f425-ccd42c2b2c60"
      },
      "id": "pGFguofOvJjA",
      "execution_count": 46,
      "outputs": [
        {
          "output_type": "stream",
          "name": "stdout",
          "text": [
            "Accuracy: 0.9973262032085561\n"
          ]
        }
      ]
    },
    {
      "cell_type": "markdown",
      "source": [
        "The accuracy of 0.9973262032085561 indicates that the model correctly predicted the churn status of 99.73% of the data points in the test set. This is a very high level of accuracy, suggesting that the model is very good at predicting churn."
      ],
      "metadata": {
        "id": "5TbLxxLkvsvC"
      },
      "id": "5TbLxxLkvsvC"
    }
  ],
  "metadata": {
    "kernelspec": {
      "display_name": "Python 3 (ipykernel)",
      "language": "python",
      "name": "python3"
    },
    "language_info": {
      "codemirror_mode": {
        "name": "ipython",
        "version": 3
      },
      "file_extension": ".py",
      "mimetype": "text/x-python",
      "name": "python",
      "nbconvert_exporter": "python",
      "pygments_lexer": "ipython3",
      "version": "3.11.5"
    },
    "colab": {
      "provenance": []
    }
  },
  "nbformat": 4,
  "nbformat_minor": 5
}